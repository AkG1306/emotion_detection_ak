{
 "cells": [
  {
   "cell_type": "code",
   "execution_count": 17,
   "id": "cc64cb91",
   "metadata": {},
   "outputs": [],
   "source": [
    "# import required packages\n",
    "import cv2\n",
    "from keras.models import Sequential\n",
    "from keras.layers import Conv2D, MaxPooling2D, Dense, Dropout, Flatten\n",
    "from keras.optimizers import Adam\n",
    "from keras.preprocessing.image import ImageDataGenerator\n"
   ]
  },
  {
   "cell_type": "code",
   "execution_count": 18,
   "id": "1aad1da8",
   "metadata": {},
   "outputs": [],
   "source": [
    "# Initialize image data generator with rescaling\n",
    "train_data_gen = ImageDataGenerator(rescale=1./255)\n",
    "validation_data_gen = ImageDataGenerator(rescale=1./255)\n",
    "\n"
   ]
  },
  {
   "cell_type": "code",
   "execution_count": 19,
   "id": "d3a15526",
   "metadata": {},
   "outputs": [
    {
     "name": "stdout",
     "output_type": "stream",
     "text": [
      "Found 28709 images belonging to 7 classes.\n"
     ]
    }
   ],
   "source": [
    "# Preprocess all test images\n",
    "train_generator = train_data_gen.flow_from_directory(\n",
    "        'data/train',\n",
    "        target_size=(48, 48),\n",
    "        batch_size=64,\n",
    "        color_mode=\"grayscale\",\n",
    "        class_mode='categorical')\n",
    "\n"
   ]
  },
  {
   "cell_type": "code",
   "execution_count": 20,
   "id": "83a67750",
   "metadata": {},
   "outputs": [
    {
     "name": "stdout",
     "output_type": "stream",
     "text": [
      "Found 7178 images belonging to 7 classes.\n"
     ]
    }
   ],
   "source": [
    "# Preprocess all train images\n",
    "validation_generator = validation_data_gen.flow_from_directory(\n",
    "        'data/test',\n",
    "        target_size=(48, 48),\n",
    "        batch_size=64,\n",
    "        color_mode=\"grayscale\",\n",
    "        class_mode='categorical')\n",
    "\n"
   ]
  },
  {
   "cell_type": "code",
   "execution_count": 21,
   "id": "6ee5fc0d",
   "metadata": {},
   "outputs": [
    {
     "name": "stderr",
     "output_type": "stream",
     "text": [
      "WARNING:absl:`lr` is deprecated in Keras optimizer, please use `learning_rate` or use the legacy optimizer, e.g.,tf.keras.optimizers.legacy.Adam.\n"
     ]
    }
   ],
   "source": [
    "# create model structure\n",
    "emotion_model = Sequential()\n",
    "\n",
    "emotion_model.add(Conv2D(32, kernel_size=(3, 3), activation='relu', input_shape=(48, 48, 1)))\n",
    "emotion_model.add(Conv2D(64, kernel_size=(3, 3), activation='relu'))\n",
    "emotion_model.add(MaxPooling2D(pool_size=(2, 2)))\n",
    "emotion_model.add(Dropout(0.25))\n",
    "\n",
    "emotion_model.add(Conv2D(128, kernel_size=(3, 3), activation='relu'))\n",
    "emotion_model.add(MaxPooling2D(pool_size=(2, 2)))\n",
    "emotion_model.add(Conv2D(128, kernel_size=(3, 3), activation='relu'))\n",
    "emotion_model.add(MaxPooling2D(pool_size=(2, 2)))\n",
    "emotion_model.add(Dropout(0.25))\n",
    "\n",
    "emotion_model.add(Flatten())\n",
    "emotion_model.add(Dense(1024, activation='relu'))\n",
    "emotion_model.add(Dropout(0.5))\n",
    "emotion_model.add(Dense(7, activation='softmax'))\n",
    "\n",
    "cv2.ocl.setUseOpenCL(False)\n",
    "\n",
    "emotion_model.compile(loss='categorical_crossentropy', optimizer=Adam(lr=0.0001), metrics=['accuracy'])\n",
    "\n"
   ]
  },
  {
   "cell_type": "code",
   "execution_count": 22,
   "id": "3c0ef614",
   "metadata": {},
   "outputs": [
    {
     "name": "stdout",
     "output_type": "stream",
     "text": [
      "Epoch 1/50\n"
     ]
    },
    {
     "name": "stderr",
     "output_type": "stream",
     "text": [
      "C:\\Users\\DELL\\AppData\\Local\\Temp\\ipykernel_20496\\1503010989.py:6: UserWarning: `Model.fit_generator` is deprecated and will be removed in a future version. Please use `Model.fit`, which supports generators.\n",
      "  emotion_model_info = emotion_model.fit_generator(\n"
     ]
    },
    {
     "name": "stdout",
     "output_type": "stream",
     "text": [
      "448/448 [==============================] - 141s 313ms/step - loss: 1.6803 - accuracy: 0.3260 - val_loss: 1.4667 - val_accuracy: 0.4268\n",
      "Epoch 2/50\n",
      "448/448 [==============================] - 103s 229ms/step - loss: 1.3908 - accuracy: 0.4638 - val_loss: 1.2976 - val_accuracy: 0.4964\n",
      "Epoch 3/50\n",
      "448/448 [==============================] - 103s 230ms/step - loss: 1.2602 - accuracy: 0.5189 - val_loss: 1.1895 - val_accuracy: 0.5438\n",
      "Epoch 4/50\n",
      "448/448 [==============================] - 103s 230ms/step - loss: 1.1883 - accuracy: 0.5488 - val_loss: 1.1395 - val_accuracy: 0.5672\n",
      "Epoch 5/50\n",
      "448/448 [==============================] - 103s 230ms/step - loss: 1.1310 - accuracy: 0.5684 - val_loss: 1.1231 - val_accuracy: 0.5745\n",
      "Epoch 6/50\n",
      "448/448 [==============================] - 106s 236ms/step - loss: 1.0852 - accuracy: 0.5911 - val_loss: 1.1172 - val_accuracy: 0.5819\n",
      "Epoch 7/50\n",
      "448/448 [==============================] - 109s 244ms/step - loss: 1.0405 - accuracy: 0.6075 - val_loss: 1.0942 - val_accuracy: 0.5900\n",
      "Epoch 8/50\n",
      "448/448 [==============================] - 110s 245ms/step - loss: 0.9993 - accuracy: 0.6244 - val_loss: 1.0665 - val_accuracy: 0.6023\n",
      "Epoch 9/50\n",
      "448/448 [==============================] - 109s 243ms/step - loss: 0.9595 - accuracy: 0.6394 - val_loss: 1.0693 - val_accuracy: 0.6007\n",
      "Epoch 10/50\n",
      "448/448 [==============================] - 107s 239ms/step - loss: 0.9246 - accuracy: 0.6525 - val_loss: 1.0763 - val_accuracy: 0.6034\n",
      "Epoch 11/50\n",
      "448/448 [==============================] - 106s 237ms/step - loss: 0.8827 - accuracy: 0.6676 - val_loss: 1.0645 - val_accuracy: 0.6042\n",
      "Epoch 12/50\n",
      "448/448 [==============================] - 107s 238ms/step - loss: 0.8580 - accuracy: 0.6759 - val_loss: 1.0599 - val_accuracy: 0.6057\n",
      "Epoch 13/50\n",
      "448/448 [==============================] - 105s 235ms/step - loss: 0.8305 - accuracy: 0.6888 - val_loss: 1.0522 - val_accuracy: 0.6106\n",
      "Epoch 14/50\n",
      "448/448 [==============================] - 107s 238ms/step - loss: 0.7976 - accuracy: 0.7008 - val_loss: 1.0617 - val_accuracy: 0.6134\n",
      "Epoch 15/50\n",
      "448/448 [==============================] - 111s 248ms/step - loss: 0.7676 - accuracy: 0.7151 - val_loss: 1.0823 - val_accuracy: 0.6127\n",
      "Epoch 16/50\n",
      "448/448 [==============================] - 110s 245ms/step - loss: 0.7382 - accuracy: 0.7243 - val_loss: 1.1241 - val_accuracy: 0.6180\n",
      "Epoch 16: early stopping\n"
     ]
    }
   ],
   "source": [
    "# Train the neural network/model\n",
    "from keras.callbacks import EarlyStopping\n",
    "\n",
    "early_stopping = EarlyStopping(monitor = \"val_loss\",patience =3, verbose = 1)\n",
    "\n",
    "emotion_model_info = emotion_model.fit_generator(\n",
    "        train_generator,\n",
    "        steps_per_epoch=28709 // 64,\n",
    "        epochs=50,\n",
    "        validation_data=validation_generator,\n",
    "        validation_steps=7178 // 64,\n",
    "        callbacks = early_stopping)\n",
    "\n"
   ]
  },
  {
   "cell_type": "code",
   "execution_count": 23,
   "id": "f605b6fe",
   "metadata": {},
   "outputs": [],
   "source": [
    "# save model structure in jason file\n",
    "model_json = emotion_model.to_json()\n",
    "with open(\"emotion_model.json\", \"w\") as json_file:\n",
    "    json_file.write(model_json)\n",
    "\n",
    "# save trained model weight in .h5 file\n",
    "emotion_model.save_weights('emotion_model.h5')\n"
   ]
  },
  {
   "cell_type": "code",
   "execution_count": null,
   "id": "3c9abbaa",
   "metadata": {},
   "outputs": [],
   "source": []
  }
 ],
 "metadata": {
  "kernelspec": {
   "display_name": "Python 3 (ipykernel)",
   "language": "python",
   "name": "python3"
  },
  "language_info": {
   "codemirror_mode": {
    "name": "ipython",
    "version": 3
   },
   "file_extension": ".py",
   "mimetype": "text/x-python",
   "name": "python",
   "nbconvert_exporter": "python",
   "pygments_lexer": "ipython3",
   "version": "3.11.8"
  }
 },
 "nbformat": 4,
 "nbformat_minor": 5
}
